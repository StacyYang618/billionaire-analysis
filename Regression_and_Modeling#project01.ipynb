{
 "cells": [
  {
   "cell_type": "markdown",
   "id": "a9101438",
   "metadata": {},
   "source": [
    "#  Project 02 - Research on Video games(2004 to 2010)"
   ]
  },
  {
   "cell_type": "markdown",
   "id": "a759a0a7",
   "metadata": {},
   "source": [
    "## 1. Introduction"
   ]
  },
  {
   "cell_type": "markdown",
   "id": "d08c55ee",
   "metadata": {},
   "source": [
    "### a) Dataset introduction:"
   ]
  },
  {
   "cell_type": "markdown",
   "id": "2050527b",
   "metadata": {},
   "source": [
    "We use the \"Video Games\" dataset collected and collated by Dr. Joe Cox. The data set includes more than 1,000 video games released between 2004 and 2010. The dataset, which collects a variety of factors that influence game sales, was originally designed to study what makes a blockbuster video game."
   ]
  },
  {
   "cell_type": "markdown",
   "id": "a8936c97",
   "metadata": {},
   "source": [
    "### b) Research question:"
   ]
  },
  {
   "cell_type": "markdown",
   "id": "6e17a0f1",
   "metadata": {},
   "source": [
    "##### Linear Regression: "
   ]
  },
  {
   "cell_type": "markdown",
   "id": "7e043c84",
   "metadata": {},
   "source": [
    "1. Descriptive question: What is the relationship between Review Score and US Sales after controlling for YearRelease, Usedprice, and Maxplayers for all video games released between 2004 to 2010?\n",
    "2. Inference question: How does my model perform on new data?"
   ]
  },
  {
   "cell_type": "markdown",
   "id": "4f0d593e",
   "metadata": {},
   "source": [
    "##### Logistic Regression:"
   ]
  },
  {
   "cell_type": "markdown",
   "id": "d5f6353c",
   "metadata": {},
   "source": [
    "1. Descriptive question: How do Usedprice, YearReleased, and Platform relate to the log-odds of a game being third-person in the training data? \n",
    " 2. Inference question: How does a classifier built on this model perform when predicting whether games are third-person in the test data?"
   ]
  },
  {
   "cell_type": "markdown",
   "id": "5ef3e897",
   "metadata": {},
   "source": [
    "### c) Response Variables:"
   ]
  },
  {
   "cell_type": "markdown",
   "id": "c4578ded",
   "metadata": {},
   "source": [
    "1. Linear: US Sales (millions)\n",
    "2. Logistic: Third Person"
   ]
  },
  {
   "cell_type": "markdown",
   "id": "22d2bd85",
   "metadata": {},
   "source": [
    "### d) Contextual Importance:"
   ]
  },
  {
   "cell_type": "markdown",
   "id": "cd411284",
   "metadata": {},
   "source": [
    "The members of our group are very interested in video games. We want to find the factors related to the sales of video games and the connections with the data variables related to video games through this research. To help game developers or game companies adjust their strategies, thereby making their games more competitive."
   ]
  },
  {
   "cell_type": "code",
   "execution_count": 36,
   "id": "6b8a0eac",
   "metadata": {},
   "outputs": [],
   "source": [
    "#Imports here\n",
    "import pandas as pd\n",
    "import matplotlib.pyplot as plt\n",
    "import seaborn as sns\n",
    "sns.set()\n",
    "import statsmodels.formula.api as smf\n",
    "from sklearn.model_selection import train_test_split\n",
    "from sklearn.metrics import roc_auc_score\n",
    "from sklearn.metrics import mean_squared_error\n",
    "from sklearn.metrics import confusion_matrix"
   ]
  },
  {
   "cell_type": "code",
   "execution_count": 37,
   "id": "5eaa9bd8",
   "metadata": {},
   "outputs": [
    {
     "data": {
      "text/html": [
       "<div>\n",
       "<style scoped>\n",
       "    .dataframe tbody tr th:only-of-type {\n",
       "        vertical-align: middle;\n",
       "    }\n",
       "\n",
       "    .dataframe tbody tr th {\n",
       "        vertical-align: top;\n",
       "    }\n",
       "\n",
       "    .dataframe thead th {\n",
       "        text-align: right;\n",
       "    }\n",
       "</style>\n",
       "<table border=\"1\" class=\"dataframe\">\n",
       "  <thead>\n",
       "    <tr style=\"text-align: right;\">\n",
       "      <th></th>\n",
       "      <th>Console</th>\n",
       "      <th>Title</th>\n",
       "      <th>US Sales (millions)</th>\n",
       "      <th>Block4</th>\n",
       "      <th>Block2</th>\n",
       "      <th>Block1</th>\n",
       "      <th>Block0.5</th>\n",
       "      <th>YearReleased</th>\n",
       "      <th>2004</th>\n",
       "      <th>2005</th>\n",
       "      <th>...</th>\n",
       "      <th>Wakeboarding</th>\n",
       "      <th>Wrestling</th>\n",
       "      <th>FirstPerson</th>\n",
       "      <th>Platform</th>\n",
       "      <th>Isometric</th>\n",
       "      <th>SideScrolling</th>\n",
       "      <th>TopDown</th>\n",
       "      <th>ThirdPerson</th>\n",
       "      <th>Sale</th>\n",
       "      <th>Score</th>\n",
       "    </tr>\n",
       "  </thead>\n",
       "  <tbody>\n",
       "    <tr>\n",
       "      <th>0</th>\n",
       "      <td>Nintendo DS</td>\n",
       "      <td>Super Mario 64 DS</td>\n",
       "      <td>4.69</td>\n",
       "      <td>1</td>\n",
       "      <td>1</td>\n",
       "      <td>1</td>\n",
       "      <td>1</td>\n",
       "      <td>2004</td>\n",
       "      <td>1</td>\n",
       "      <td>0</td>\n",
       "      <td>...</td>\n",
       "      <td>0</td>\n",
       "      <td>0</td>\n",
       "      <td>0</td>\n",
       "      <td>1</td>\n",
       "      <td>0</td>\n",
       "      <td>0</td>\n",
       "      <td>0</td>\n",
       "      <td>1</td>\n",
       "      <td>4.69</td>\n",
       "      <td>85</td>\n",
       "    </tr>\n",
       "    <tr>\n",
       "      <th>1</th>\n",
       "      <td>Sony PSP</td>\n",
       "      <td>Lumines: Puzzle Fusion</td>\n",
       "      <td>0.56</td>\n",
       "      <td>0</td>\n",
       "      <td>0</td>\n",
       "      <td>0</td>\n",
       "      <td>1</td>\n",
       "      <td>2004</td>\n",
       "      <td>1</td>\n",
       "      <td>0</td>\n",
       "      <td>...</td>\n",
       "      <td>0</td>\n",
       "      <td>0</td>\n",
       "      <td>0</td>\n",
       "      <td>0</td>\n",
       "      <td>0</td>\n",
       "      <td>0</td>\n",
       "      <td>0</td>\n",
       "      <td>0</td>\n",
       "      <td>0.56</td>\n",
       "      <td>89</td>\n",
       "    </tr>\n",
       "    <tr>\n",
       "      <th>2</th>\n",
       "      <td>Nintendo DS</td>\n",
       "      <td>WarioWare Touched!</td>\n",
       "      <td>0.54</td>\n",
       "      <td>0</td>\n",
       "      <td>0</td>\n",
       "      <td>0</td>\n",
       "      <td>1</td>\n",
       "      <td>2004</td>\n",
       "      <td>1</td>\n",
       "      <td>0</td>\n",
       "      <td>...</td>\n",
       "      <td>0</td>\n",
       "      <td>0</td>\n",
       "      <td>0</td>\n",
       "      <td>1</td>\n",
       "      <td>1</td>\n",
       "      <td>1</td>\n",
       "      <td>1</td>\n",
       "      <td>1</td>\n",
       "      <td>0.54</td>\n",
       "      <td>81</td>\n",
       "    </tr>\n",
       "    <tr>\n",
       "      <th>3</th>\n",
       "      <td>Sony PSP</td>\n",
       "      <td>Hot Shots Golf: Open Tee</td>\n",
       "      <td>0.49</td>\n",
       "      <td>0</td>\n",
       "      <td>0</td>\n",
       "      <td>0</td>\n",
       "      <td>0</td>\n",
       "      <td>2004</td>\n",
       "      <td>1</td>\n",
       "      <td>0</td>\n",
       "      <td>...</td>\n",
       "      <td>0</td>\n",
       "      <td>0</td>\n",
       "      <td>0</td>\n",
       "      <td>0</td>\n",
       "      <td>0</td>\n",
       "      <td>0</td>\n",
       "      <td>0</td>\n",
       "      <td>1</td>\n",
       "      <td>0.49</td>\n",
       "      <td>81</td>\n",
       "    </tr>\n",
       "    <tr>\n",
       "      <th>4</th>\n",
       "      <td>Nintendo DS</td>\n",
       "      <td>Spider-Man 2</td>\n",
       "      <td>0.45</td>\n",
       "      <td>0</td>\n",
       "      <td>0</td>\n",
       "      <td>0</td>\n",
       "      <td>0</td>\n",
       "      <td>2004</td>\n",
       "      <td>1</td>\n",
       "      <td>0</td>\n",
       "      <td>...</td>\n",
       "      <td>0</td>\n",
       "      <td>0</td>\n",
       "      <td>0</td>\n",
       "      <td>1</td>\n",
       "      <td>0</td>\n",
       "      <td>1</td>\n",
       "      <td>0</td>\n",
       "      <td>1</td>\n",
       "      <td>0.45</td>\n",
       "      <td>61</td>\n",
       "    </tr>\n",
       "  </tbody>\n",
       "</table>\n",
       "<p>5 rows × 168 columns</p>\n",
       "</div>"
      ],
      "text/plain": [
       "       Console                     Title  US Sales (millions)  Block4  Block2  \\\n",
       "0  Nintendo DS         Super Mario 64 DS                 4.69       1       1   \n",
       "1     Sony PSP    Lumines: Puzzle Fusion                 0.56       0       0   \n",
       "2  Nintendo DS        WarioWare Touched!                 0.54       0       0   \n",
       "3     Sony PSP  Hot Shots Golf: Open Tee                 0.49       0       0   \n",
       "4  Nintendo DS              Spider-Man 2                 0.45       0       0   \n",
       "\n",
       "   Block1  Block0.5  YearReleased  2004  2005  ...  Wakeboarding  Wrestling  \\\n",
       "0       1         1          2004     1     0  ...             0          0   \n",
       "1       0         1          2004     1     0  ...             0          0   \n",
       "2       0         1          2004     1     0  ...             0          0   \n",
       "3       0         0          2004     1     0  ...             0          0   \n",
       "4       0         0          2004     1     0  ...             0          0   \n",
       "\n",
       "   FirstPerson  Platform  Isometric  SideScrolling TopDown ThirdPerson  Sale  \\\n",
       "0            0         1          0              0       0           1  4.69   \n",
       "1            0         0          0              0       0           0  0.56   \n",
       "2            0         1          1              1       1           1  0.54   \n",
       "3            0         0          0              0       0           1  0.49   \n",
       "4            0         1          0              1       0           1  0.45   \n",
       "\n",
       "   Score  \n",
       "0     85  \n",
       "1     89  \n",
       "2     81  \n",
       "3     81  \n",
       "4     61  \n",
       "\n",
       "[5 rows x 168 columns]"
      ]
     },
     "execution_count": 37,
     "metadata": {},
     "output_type": "execute_result"
    }
   ],
   "source": [
    "df = pd.read_csv(\"video_games.csv\", encoding=\"unicode-escape\")\n",
    "df[\"Sale\"]=df[\"US Sales (millions)\"]\n",
    "df[\"Score\"] = df[\"Review Score\"]\n",
    "df.head()"
   ]
  },
  {
   "cell_type": "markdown",
   "id": "7c5e63fa",
   "metadata": {},
   "source": [
    "## 2. Linear Regression Analytical Tasks"
   ]
  },
  {
   "cell_type": "markdown",
   "id": "7d106636",
   "metadata": {},
   "source": [
    "### a) Research question:"
   ]
  },
  {
   "cell_type": "markdown",
   "id": "ea68e033",
   "metadata": {},
   "source": [
    "1. Descriptive question: What is the relationship between Review Score and US Sales after controlling for YearRelease, Usedprice, and MaxPlayers for all video games released between 2004 to 2010?\n",
    "2. Inference question: How does my model perform on new data?"
   ]
  },
  {
   "cell_type": "markdown",
   "id": "7ef7ab91",
   "metadata": {},
   "source": [
    "### b) Split the data into traning and testing dataset:"
   ]
  },
  {
   "cell_type": "code",
   "execution_count": 38,
   "id": "af7723e3",
   "metadata": {},
   "outputs": [],
   "source": [
    "df_train, df_test = train_test_split(df, test_size=0.2, random_state= 42)"
   ]
  },
  {
   "cell_type": "markdown",
   "id": "b72c8e7a",
   "metadata": {},
   "source": [
    "### c) Fit a linear regression model:"
   ]
  },
  {
   "cell_type": "code",
   "execution_count": 39,
   "id": "d80b1ad4",
   "metadata": {},
   "outputs": [
    {
     "data": {
      "text/html": [
       "<table class=\"simpletable\">\n",
       "<caption>OLS Regression Results</caption>\n",
       "<tr>\n",
       "  <th>Dep. Variable:</th>          <td>Sale</td>       <th>  R-squared:         </th> <td>   0.145</td>\n",
       "</tr>\n",
       "<tr>\n",
       "  <th>Model:</th>                   <td>OLS</td>       <th>  Adj. R-squared:    </th> <td>   0.142</td>\n",
       "</tr>\n",
       "<tr>\n",
       "  <th>Method:</th>             <td>Least Squares</td>  <th>  F-statistic:       </th> <td>   59.60</td>\n",
       "</tr>\n",
       "<tr>\n",
       "  <th>Date:</th>             <td>Wed, 03 Sep 2025</td> <th>  Prob (F-statistic):</th> <td>1.50e-46</td>\n",
       "</tr>\n",
       "<tr>\n",
       "  <th>Time:</th>                 <td>18:20:49</td>     <th>  Log-Likelihood:    </th> <td> -1972.3</td>\n",
       "</tr>\n",
       "<tr>\n",
       "  <th>No. Observations:</th>      <td>  1416</td>      <th>  AIC:               </th> <td>   3955.</td>\n",
       "</tr>\n",
       "<tr>\n",
       "  <th>Df Residuals:</th>          <td>  1411</td>      <th>  BIC:               </th> <td>   3981.</td>\n",
       "</tr>\n",
       "<tr>\n",
       "  <th>Df Model:</th>              <td>     4</td>      <th>                     </th>     <td> </td>   \n",
       "</tr>\n",
       "<tr>\n",
       "  <th>Covariance Type:</th>      <td>nonrobust</td>    <th>                     </th>     <td> </td>   \n",
       "</tr>\n",
       "</table>\n",
       "<table class=\"simpletable\">\n",
       "<tr>\n",
       "        <td></td>          <th>coef</th>     <th>std err</th>      <th>t</th>      <th>P>|t|</th>  <th>[0.025</th>    <th>0.975]</th>  \n",
       "</tr>\n",
       "<tr>\n",
       "  <th>Intercept</th>    <td>  155.4719</td> <td>   43.402</td> <td>    3.582</td> <td> 0.000</td> <td>   70.332</td> <td>  240.612</td>\n",
       "</tr>\n",
       "<tr>\n",
       "  <th>Score</th>        <td>    0.0203</td> <td>    0.002</td> <td>   10.451</td> <td> 0.000</td> <td>    0.017</td> <td>    0.024</td>\n",
       "</tr>\n",
       "<tr>\n",
       "  <th>YearReleased</th> <td>   -0.0782</td> <td>    0.022</td> <td>   -3.616</td> <td> 0.000</td> <td>   -0.121</td> <td>   -0.036</td>\n",
       "</tr>\n",
       "<tr>\n",
       "  <th>Usedprice</th>    <td>    0.0273</td> <td>    0.004</td> <td>    7.067</td> <td> 0.000</td> <td>    0.020</td> <td>    0.035</td>\n",
       "</tr>\n",
       "<tr>\n",
       "  <th>MaxPlayers</th>   <td>    0.0791</td> <td>    0.021</td> <td>    3.704</td> <td> 0.000</td> <td>    0.037</td> <td>    0.121</td>\n",
       "</tr>\n",
       "</table>\n",
       "<table class=\"simpletable\">\n",
       "<tr>\n",
       "  <th>Omnibus:</th>       <td>1754.187</td> <th>  Durbin-Watson:     </th>  <td>   2.067</td> \n",
       "</tr>\n",
       "<tr>\n",
       "  <th>Prob(Omnibus):</th>  <td> 0.000</td>  <th>  Jarque-Bera (JB):  </th> <td>225480.491</td>\n",
       "</tr>\n",
       "<tr>\n",
       "  <th>Skew:</th>           <td> 6.516</td>  <th>  Prob(JB):          </th>  <td>    0.00</td> \n",
       "</tr>\n",
       "<tr>\n",
       "  <th>Kurtosis:</th>       <td>63.431</td>  <th>  Cond. No.          </th>  <td>3.36e+06</td> \n",
       "</tr>\n",
       "</table><br/><br/>Notes:<br/>[1] Standard Errors assume that the covariance matrix of the errors is correctly specified.<br/>[2] The condition number is large, 3.36e+06. This might indicate that there are<br/>strong multicollinearity or other numerical problems."
      ],
      "text/latex": [
       "\\begin{center}\n",
       "\\begin{tabular}{lclc}\n",
       "\\toprule\n",
       "\\textbf{Dep. Variable:}    &       Sale       & \\textbf{  R-squared:         } &     0.145   \\\\\n",
       "\\textbf{Model:}            &       OLS        & \\textbf{  Adj. R-squared:    } &     0.142   \\\\\n",
       "\\textbf{Method:}           &  Least Squares   & \\textbf{  F-statistic:       } &     59.60   \\\\\n",
       "\\textbf{Date:}             & Wed, 03 Sep 2025 & \\textbf{  Prob (F-statistic):} &  1.50e-46   \\\\\n",
       "\\textbf{Time:}             &     18:20:49     & \\textbf{  Log-Likelihood:    } &   -1972.3   \\\\\n",
       "\\textbf{No. Observations:} &        1416      & \\textbf{  AIC:               } &     3955.   \\\\\n",
       "\\textbf{Df Residuals:}     &        1411      & \\textbf{  BIC:               } &     3981.   \\\\\n",
       "\\textbf{Df Model:}         &           4      & \\textbf{                     } &             \\\\\n",
       "\\textbf{Covariance Type:}  &    nonrobust     & \\textbf{                     } &             \\\\\n",
       "\\bottomrule\n",
       "\\end{tabular}\n",
       "\\begin{tabular}{lcccccc}\n",
       "                      & \\textbf{coef} & \\textbf{std err} & \\textbf{t} & \\textbf{P$> |$t$|$} & \\textbf{[0.025} & \\textbf{0.975]}  \\\\\n",
       "\\midrule\n",
       "\\textbf{Intercept}    &     155.4719  &       43.402     &     3.582  &         0.000        &       70.332    &      240.612     \\\\\n",
       "\\textbf{Score}        &       0.0203  &        0.002     &    10.451  &         0.000        &        0.017    &        0.024     \\\\\n",
       "\\textbf{YearReleased} &      -0.0782  &        0.022     &    -3.616  &         0.000        &       -0.121    &       -0.036     \\\\\n",
       "\\textbf{Usedprice}    &       0.0273  &        0.004     &     7.067  &         0.000        &        0.020    &        0.035     \\\\\n",
       "\\textbf{MaxPlayers}   &       0.0791  &        0.021     &     3.704  &         0.000        &        0.037    &        0.121     \\\\\n",
       "\\bottomrule\n",
       "\\end{tabular}\n",
       "\\begin{tabular}{lclc}\n",
       "\\textbf{Omnibus:}       & 1754.187 & \\textbf{  Durbin-Watson:     } &     2.067   \\\\\n",
       "\\textbf{Prob(Omnibus):} &   0.000  & \\textbf{  Jarque-Bera (JB):  } & 225480.491  \\\\\n",
       "\\textbf{Skew:}          &   6.516  & \\textbf{  Prob(JB):          } &      0.00   \\\\\n",
       "\\textbf{Kurtosis:}      &  63.431  & \\textbf{  Cond. No.          } &  3.36e+06   \\\\\n",
       "\\bottomrule\n",
       "\\end{tabular}\n",
       "%\\caption{OLS Regression Results}\n",
       "\\end{center}\n",
       "\n",
       "Notes: \\newline\n",
       " [1] Standard Errors assume that the covariance matrix of the errors is correctly specified. \\newline\n",
       " [2] The condition number is large, 3.36e+06. This might indicate that there are \\newline\n",
       " strong multicollinearity or other numerical problems."
      ],
      "text/plain": [
       "<class 'statsmodels.iolib.summary.Summary'>\n",
       "\"\"\"\n",
       "                            OLS Regression Results                            \n",
       "==============================================================================\n",
       "Dep. Variable:                   Sale   R-squared:                       0.145\n",
       "Model:                            OLS   Adj. R-squared:                  0.142\n",
       "Method:                 Least Squares   F-statistic:                     59.60\n",
       "Date:                Wed, 03 Sep 2025   Prob (F-statistic):           1.50e-46\n",
       "Time:                        18:20:49   Log-Likelihood:                -1972.3\n",
       "No. Observations:                1416   AIC:                             3955.\n",
       "Df Residuals:                    1411   BIC:                             3981.\n",
       "Df Model:                           4                                         \n",
       "Covariance Type:            nonrobust                                         \n",
       "================================================================================\n",
       "                   coef    std err          t      P>|t|      [0.025      0.975]\n",
       "--------------------------------------------------------------------------------\n",
       "Intercept      155.4719     43.402      3.582      0.000      70.332     240.612\n",
       "Score            0.0203      0.002     10.451      0.000       0.017       0.024\n",
       "YearReleased    -0.0782      0.022     -3.616      0.000      -0.121      -0.036\n",
       "Usedprice        0.0273      0.004      7.067      0.000       0.020       0.035\n",
       "MaxPlayers       0.0791      0.021      3.704      0.000       0.037       0.121\n",
       "==============================================================================\n",
       "Omnibus:                     1754.187   Durbin-Watson:                   2.067\n",
       "Prob(Omnibus):                  0.000   Jarque-Bera (JB):           225480.491\n",
       "Skew:                           6.516   Prob(JB):                         0.00\n",
       "Kurtosis:                      63.431   Cond. No.                     3.36e+06\n",
       "==============================================================================\n",
       "\n",
       "Notes:\n",
       "[1] Standard Errors assume that the covariance matrix of the errors is correctly specified.\n",
       "[2] The condition number is large, 3.36e+06. This might indicate that there are\n",
       "strong multicollinearity or other numerical problems.\n",
       "\"\"\""
      ]
     },
     "execution_count": 39,
     "metadata": {},
     "output_type": "execute_result"
    }
   ],
   "source": [
    "model_linear = smf.ols(formula=\"Sale~Score+YearReleased+Usedprice+MaxPlayers\",data=df_train).fit()\n",
    "model_linear.summary()"
   ]
  },
  {
   "cell_type": "markdown",
   "id": "b7236fd5",
   "metadata": {},
   "source": [
    "y-hat = 155.4719+0.0203(Score)-0.0782(YearReleased)+0.0273(Usedprice)+0.0791(MaxPlayers)"
   ]
  },
  {
   "cell_type": "markdown",
   "id": "f0e31c02",
   "metadata": {},
   "source": [
    "### d) Examine the relationship between your review score and US_Sales in the context of this model:"
   ]
  },
  {
   "cell_type": "markdown",
   "id": "283b3575",
   "metadata": {},
   "source": [
    "#### i) Interpret slope coefficient:"
   ]
  },
  {
   "cell_type": "markdown",
   "id": "573eaefd",
   "metadata": {},
   "source": [
    "For 1 point increase in Review Score, the predicted US Sales will increase by 0.0203 millions on average, hold other variables constant."
   ]
  },
  {
   "cell_type": "markdown",
   "id": "4d48ac29",
   "metadata": {},
   "source": [
    "#### ii) Provide and interpret a 95% confidence interval:"
   ]
  },
  {
   "cell_type": "markdown",
   "id": "88ee73d2",
   "metadata": {},
   "source": [
    "I have 95% confidence that the true slope for how much the predicted US sales of the video games increase for one point increase in Review score, on average, holding other variables constant, fall in the range(0.017, 0.024)"
   ]
  },
  {
   "cell_type": "markdown",
   "id": "54207057",
   "metadata": {},
   "source": [
    "#### iii)  Check linear regression condition:"
   ]
  },
  {
   "cell_type": "code",
   "execution_count": 40,
   "id": "7ac74858",
   "metadata": {},
   "outputs": [
    {
     "data": {
      "text/plain": [
       "<matplotlib.lines.Line2D at 0x26b087092e0>"
      ]
     },
     "execution_count": 40,
     "metadata": {},
     "output_type": "execute_result"
    },
    {
     "data": {
      "image/png": "[encoded data removed]",
      "text/plain": [
       "<Figure size 640x480 with 1 Axes>"
      ]
     },
     "metadata": {},
     "output_type": "display_data"
    }
   ],
   "source": [
    "X_train = df_train[['Score', 'YearReleased','Usedprice','MaxPlayers']]\n",
    "Y_hat = model_linear.predict(X_train)\n",
    "Y_train = df_train['Sale']\n",
    "e_linear = Y_train - Y_hat\n",
    "plt.scatter(Y_hat, e_linear)\n",
    "plt.axhline(y=0, color='r', linestyle='--')"
   ]
  },
  {
   "cell_type": "markdown",
   "id": "2244f2c1",
   "metadata": {},
   "source": [
    "##### Linearity:"
   ]
  },
  {
   "cell_type": "markdown",
   "id": "b23ad331",
   "metadata": {},
   "source": [
    "Based on this graph, I would say that the linear model seems not appropriate. This is because we can see an especially identifiable pattern in the center of the points on the graph from left to right, and the distribution of residuals are not evenly distributed from positive and negative side."
   ]
  },
  {
   "cell_type": "markdown",
   "id": "855be00e",
   "metadata": {},
   "source": [
    "##### Equal variance:"
   ]
  },
  {
   "cell_type": "markdown",
   "id": "c1c1d19e",
   "metadata": {},
   "source": [
    "Based on this graph, I would say that the equal variance assumption not met. Because the encompassing line for positive and negative are not parallel"
   ]
  },
  {
   "cell_type": "markdown",
   "id": "f451c6a8",
   "metadata": {},
   "source": [
    "##### Independence:"
   ]
  },
  {
   "cell_type": "markdown",
   "id": "ef9e6cc1",
   "metadata": {},
   "source": [
    "Our data size(n) approximately < 10% population, and our sample is randomly selected"
   ]
  },
  {
   "cell_type": "markdown",
   "id": "a8a1bf65",
   "metadata": {},
   "source": [
    "##### Normality:"
   ]
  },
  {
   "cell_type": "code",
   "execution_count": 41,
   "id": "96b63a4c",
   "metadata": {},
   "outputs": [
    {
     "data": {
      "image/png": "[encoded data removed]",
      "text/plain": [
       "<Figure size 640x480 with 1 Axes>"
      ]
     },
     "execution_count": 41,
     "metadata": {},
     "output_type": "execute_result"
    },
    {
     "data": {
      "image/png": "[encoded data removed]",
      "text/plain": [
       "<Figure size 640x480 with 1 Axes>"
      ]
     },
     "metadata": {},
     "output_type": "display_data"
    }
   ],
   "source": [
    "import statsmodels.api as sm\n",
    "sm.qqplot(model_linear .resid)"
   ]
  },
  {
   "cell_type": "markdown",
   "id": "24e5688c",
   "metadata": {},
   "source": [
    "Based on the qq-plot, The residual points in the qq-plot do not follow a 45° straight line, but are significantly lifted away in the upper right corner and form an overall S shape."
   ]
  },
  {
   "cell_type": "markdown",
   "id": "3ceb0342",
   "metadata": {},
   "source": [
    "##### Multicollinearity:"
   ]
  },
  {
   "cell_type": "code",
   "execution_count": 42,
   "id": "b04e7def",
   "metadata": {},
   "outputs": [
    {
     "data": {
      "text/html": [
       "<div>\n",
       "<style scoped>\n",
       "    .dataframe tbody tr th:only-of-type {\n",
       "        vertical-align: middle;\n",
       "    }\n",
       "\n",
       "    .dataframe tbody tr th {\n",
       "        vertical-align: top;\n",
       "    }\n",
       "\n",
       "    .dataframe thead th {\n",
       "        text-align: right;\n",
       "    }\n",
       "</style>\n",
       "<table border=\"1\" class=\"dataframe\">\n",
       "  <thead>\n",
       "    <tr style=\"text-align: right;\">\n",
       "      <th></th>\n",
       "      <th>Score</th>\n",
       "      <th>YearReleased</th>\n",
       "      <th>Usedprice</th>\n",
       "      <th>MaxPlayers</th>\n",
       "    </tr>\n",
       "  </thead>\n",
       "  <tbody>\n",
       "    <tr>\n",
       "      <th>Score</th>\n",
       "      <td>1.000000</td>\n",
       "      <td>0.078483</td>\n",
       "      <td>0.268194</td>\n",
       "      <td>0.112888</td>\n",
       "    </tr>\n",
       "    <tr>\n",
       "      <th>YearReleased</th>\n",
       "      <td>0.078483</td>\n",
       "      <td>1.000000</td>\n",
       "      <td>0.475872</td>\n",
       "      <td>0.073465</td>\n",
       "    </tr>\n",
       "    <tr>\n",
       "      <th>Usedprice</th>\n",
       "      <td>0.268194</td>\n",
       "      <td>0.475872</td>\n",
       "      <td>1.000000</td>\n",
       "      <td>0.039671</td>\n",
       "    </tr>\n",
       "    <tr>\n",
       "      <th>MaxPlayers</th>\n",
       "      <td>0.112888</td>\n",
       "      <td>0.073465</td>\n",
       "      <td>0.039671</td>\n",
       "      <td>1.000000</td>\n",
       "    </tr>\n",
       "  </tbody>\n",
       "</table>\n",
       "</div>"
      ],
      "text/plain": [
       "                 Score  YearReleased  Usedprice  MaxPlayers\n",
       "Score         1.000000      0.078483   0.268194    0.112888\n",
       "YearReleased  0.078483      1.000000   0.475872    0.073465\n",
       "Usedprice     0.268194      0.475872   1.000000    0.039671\n",
       "MaxPlayers    0.112888      0.073465   0.039671    1.000000"
      ]
     },
     "execution_count": 42,
     "metadata": {},
     "output_type": "execute_result"
    }
   ],
   "source": [
    "df_train[['Score', 'YearReleased','Usedprice','MaxPlayers']].corr()"
   ]
  },
  {
   "cell_type": "markdown",
   "id": "aa0c70f3",
   "metadata": {},
   "source": [
    "We can see from the chart, all the correlation between the variables we select is very weak, so we can say there is not strong multicollinearity in our predictors."
   ]
  },
  {
   "cell_type": "markdown",
   "id": "803b75de",
   "metadata": {},
   "source": [
    "### e) Evaluate your model performance:"
   ]
  },
  {
   "cell_type": "markdown",
   "id": "48857a63",
   "metadata": {},
   "source": [
    "#### i) Percent of variability:"
   ]
  },
  {
   "cell_type": "markdown",
   "id": "9713471e",
   "metadata": {},
   "source": [
    "The R-Square for this model is 0.145, so 14.5% percence of variability in US sales explained by linear model with our predictors. It is very low, so our model is not strong."
   ]
  },
  {
   "cell_type": "markdown",
   "id": "eaa48a81",
   "metadata": {},
   "source": [
    "#### ii) RMSE:"
   ]
  },
  {
   "cell_type": "code",
   "execution_count": 43,
   "id": "00281489",
   "metadata": {},
   "outputs": [
    {
     "name": "stdout",
     "output_type": "stream",
     "text": [
      "RMSE: 0.974264738849489\n"
     ]
    }
   ],
   "source": [
    "from sklearn.metrics import root_mean_squared_error\n",
    "\n",
    "rmse = root_mean_squared_error(Y_train, Y_hat)\n",
    "print(\"RMSE:\", rmse)\n"
   ]
  },
  {
   "cell_type": "markdown",
   "id": "e7d7b1ad",
   "metadata": {},
   "source": [
    "The typical distance an observed US sales is fall from actual US sales is 0.9743 millions. The error is relatively large compared to the sample scale, and the prediction effect of the model is not ideal."
   ]
  },
  {
   "cell_type": "markdown",
   "id": "f608d181",
   "metadata": {},
   "source": [
    "## 3. Logistic Regression Analytical Tasks"
   ]
  },
  {
   "cell_type": "markdown",
   "id": "6699b90b",
   "metadata": {},
   "source": [
    "#### a)Research Question: \n",
    " 1. Descriptive question: How do Usedprice, YearReleased, and Platform relate to the log-odds of a game being third-person in the training data? \n",
    " 2. Inference question: How does a classifier built on this model perform when predicting whether games are third-person in the test data?"
   ]
  },
  {
   "cell_type": "markdown",
   "id": "19a2110c",
   "metadata": {},
   "source": [
    "#### (b)Fit a logistic Model:"
   ]
  },
  {
   "cell_type": "markdown",
   "id": "0f497d1a",
   "metadata": {},
   "source": [
    "#### (i)Show the coefficients or summary output for your model:"
   ]
  },
  {
   "cell_type": "code",
   "execution_count": 44,
   "id": "3baf8c91",
   "metadata": {},
   "outputs": [
    {
     "name": "stdout",
     "output_type": "stream",
     "text": [
      "Optimization terminated successfully.\n",
      "         Current function value: 0.555322\n",
      "         Iterations 7\n"
     ]
    },
    {
     "data": {
      "text/html": [
       "<table class=\"simpletable\">\n",
       "<caption>Logit Regression Results</caption>\n",
       "<tr>\n",
       "  <th>Dep. Variable:</th>      <td>ThirdPerson</td>   <th>  No. Observations:  </th>  <td>  1416</td>  \n",
       "</tr>\n",
       "<tr>\n",
       "  <th>Model:</th>                 <td>Logit</td>      <th>  Df Residuals:      </th>  <td>  1412</td>  \n",
       "</tr>\n",
       "<tr>\n",
       "  <th>Method:</th>                 <td>MLE</td>       <th>  Df Model:          </th>  <td>     3</td>  \n",
       "</tr>\n",
       "<tr>\n",
       "  <th>Date:</th>            <td>Wed, 03 Sep 2025</td> <th>  Pseudo R-squ.:     </th>  <td>0.01383</td> \n",
       "</tr>\n",
       "<tr>\n",
       "  <th>Time:</th>                <td>18:20:50</td>     <th>  Log-Likelihood:    </th> <td> -786.34</td> \n",
       "</tr>\n",
       "<tr>\n",
       "  <th>converged:</th>             <td>True</td>       <th>  LL-Null:           </th> <td> -797.36</td> \n",
       "</tr>\n",
       "<tr>\n",
       "  <th>Covariance Type:</th>     <td>nonrobust</td>    <th>  LLR p-value:       </th> <td>6.357e-05</td>\n",
       "</tr>\n",
       "</table>\n",
       "<table class=\"simpletable\">\n",
       "<tr>\n",
       "        <td></td>          <th>coef</th>     <th>std err</th>      <th>z</th>      <th>P>|z|</th>  <th>[0.025</th>    <th>0.975]</th>  \n",
       "</tr>\n",
       "<tr>\n",
       "  <th>Intercept</th>    <td> -324.9095</td> <td>  102.487</td> <td>   -3.170</td> <td> 0.002</td> <td> -525.781</td> <td> -124.038</td>\n",
       "</tr>\n",
       "<tr>\n",
       "  <th>Usedprice</th>    <td>    0.0032</td> <td>    0.009</td> <td>    0.346</td> <td> 0.729</td> <td>   -0.015</td> <td>    0.021</td>\n",
       "</tr>\n",
       "<tr>\n",
       "  <th>YearReleased</th> <td>    0.1624</td> <td>    0.051</td> <td>    3.177</td> <td> 0.001</td> <td>    0.062</td> <td>    0.263</td>\n",
       "</tr>\n",
       "<tr>\n",
       "  <th>Platform</th>     <td>    0.7269</td> <td>    0.265</td> <td>    2.742</td> <td> 0.006</td> <td>    0.207</td> <td>    1.246</td>\n",
       "</tr>\n",
       "</table>"
      ],
      "text/latex": [
       "\\begin{center}\n",
       "\\begin{tabular}{lclc}\n",
       "\\toprule\n",
       "\\textbf{Dep. Variable:}   &   ThirdPerson    & \\textbf{  No. Observations:  } &     1416    \\\\\n",
       "\\textbf{Model:}           &      Logit       & \\textbf{  Df Residuals:      } &     1412    \\\\\n",
       "\\textbf{Method:}          &       MLE        & \\textbf{  Df Model:          } &        3    \\\\\n",
       "\\textbf{Date:}            & Wed, 03 Sep 2025 & \\textbf{  Pseudo R-squ.:     } &  0.01383    \\\\\n",
       "\\textbf{Time:}            &     18:20:50     & \\textbf{  Log-Likelihood:    } &   -786.34   \\\\\n",
       "\\textbf{converged:}       &       True       & \\textbf{  LL-Null:           } &   -797.36   \\\\\n",
       "\\textbf{Covariance Type:} &    nonrobust     & \\textbf{  LLR p-value:       } & 6.357e-05   \\\\\n",
       "\\bottomrule\n",
       "\\end{tabular}\n",
       "\\begin{tabular}{lcccccc}\n",
       "                      & \\textbf{coef} & \\textbf{std err} & \\textbf{z} & \\textbf{P$> |$z$|$} & \\textbf{[0.025} & \\textbf{0.975]}  \\\\\n",
       "\\midrule\n",
       "\\textbf{Intercept}    &    -324.9095  &      102.487     &    -3.170  &         0.002        &     -525.781    &     -124.038     \\\\\n",
       "\\textbf{Usedprice}    &       0.0032  &        0.009     &     0.346  &         0.729        &       -0.015    &        0.021     \\\\\n",
       "\\textbf{YearReleased} &       0.1624  &        0.051     &     3.177  &         0.001        &        0.062    &        0.263     \\\\\n",
       "\\textbf{Platform}     &       0.7269  &        0.265     &     2.742  &         0.006        &        0.207    &        1.246     \\\\\n",
       "\\bottomrule\n",
       "\\end{tabular}\n",
       "%\\caption{Logit Regression Results}\n",
       "\\end{center}"
      ],
      "text/plain": [
       "<class 'statsmodels.iolib.summary.Summary'>\n",
       "\"\"\"\n",
       "                           Logit Regression Results                           \n",
       "==============================================================================\n",
       "Dep. Variable:            ThirdPerson   No. Observations:                 1416\n",
       "Model:                          Logit   Df Residuals:                     1412\n",
       "Method:                           MLE   Df Model:                            3\n",
       "Date:                Wed, 03 Sep 2025   Pseudo R-squ.:                 0.01383\n",
       "Time:                        18:20:50   Log-Likelihood:                -786.34\n",
       "converged:                       True   LL-Null:                       -797.36\n",
       "Covariance Type:            nonrobust   LLR p-value:                 6.357e-05\n",
       "================================================================================\n",
       "                   coef    std err          z      P>|z|      [0.025      0.975]\n",
       "--------------------------------------------------------------------------------\n",
       "Intercept     -324.9095    102.487     -3.170      0.002    -525.781    -124.038\n",
       "Usedprice        0.0032      0.009      0.346      0.729      -0.015       0.021\n",
       "YearReleased     0.1624      0.051      3.177      0.001       0.062       0.263\n",
       "Platform         0.7269      0.265      2.742      0.006       0.207       1.246\n",
       "================================================================================\n",
       "\"\"\""
      ]
     },
     "execution_count": 44,
     "metadata": {},
     "output_type": "execute_result"
    }
   ],
   "source": [
    "df_train_1, df_test_1 = train_test_split(df, test_size=0.2, random_state= 42)\n",
    "results_1=smf.logit('ThirdPerson ~ Usedprice + YearReleased + Platform', df_train).fit()\n",
    "results_1.summary()"
   ]
  },
  {
   "cell_type": "markdown",
   "id": "bfdc055b",
   "metadata": {},
   "source": [
    "#### ii) Explanation of variables:\n",
    "1. For every 1-unit increase in Usedprice, the log-odds of a game being third-person increase by 0.0032\n",
    "2. For every 1-year increase in YearReleased, the log-odds of a game being third-person increase by 0.1624.\n",
    "3. If Platform = 1 (compared to Platform = 0), the log-odds of a game being third-person increase by 0.7269 "
   ]
  },
  {
   "cell_type": "code",
   "execution_count": 45,
   "id": "ff73f4a4",
   "metadata": {},
   "outputs": [
    {
     "data": {
      "image/png": "[encoded data removed]",
      "text/plain": [
       "<Figure size 800x600 with 1 Axes>"
      ]
     },
     "metadata": {},
     "output_type": "display_data"
    }
   ],
   "source": [
    "from sklearn.metrics import roc_auc_score, roc_curve\n",
    "import matplotlib.pyplot as plt\n",
    "df_train_1['phat']=results_1.predict(df_train_1)\n",
    "df_train_1['yhat']= 1 * (df_train_1['phat'] >= 0.5)\n",
    "\n",
    "fpr, tpr, thresholds = roc_curve(y_true=df_train_1['ThirdPerson'], y_score=df_train_1['phat'])\n",
    "\n",
    "auc = roc_auc_score(y_true=df_train_1['ThirdPerson'], y_score=df_train_1['phat'])\n",
    "\n",
    "def plot_roc(fpr, tpr, auc, lw=2):\n",
    "    plt.figure(figsize=(8, 6))\n",
    "    plt.plot(fpr, tpr, color='darkorange', lw=lw,\n",
    "             label=\"ROC curve (area = \" + str(round(auc, 3)) + \")\")\n",
    "    plt.plot([0, 1], [0, 1], color='navy', lw=lw, linestyle='--') \n",
    "    plt.xlabel(\"False Positive Rate\")\n",
    "    plt.ylabel(\"True Positive Rate\")\n",
    "    plt.title(\"Receiver Operating Characteristic (ROC) Curve\")\n",
    "    plt.legend(loc=\"lower right\")\n",
    "    plt.grid(True)\n",
    "    plt.show()\n",
    "\n",
    "plot_roc(fpr, tpr, auc)"
   ]
  },
  {
   "cell_type": "code",
   "execution_count": 46,
   "id": "23aef7b7",
   "metadata": {},
   "outputs": [
    {
     "name": "stdout",
     "output_type": "stream",
     "text": [
      "0.567887058448713\n"
     ]
    }
   ],
   "source": [
    "print(auc)"
   ]
  },
  {
   "cell_type": "markdown",
   "id": "2c989cc5",
   "metadata": {},
   "source": [
    "#### iii) Report of AUC and Pseudo-R square:\n",
    "The logistic regression model predicting whether a game is third-person has a pseudo R-squared value of 0.01174, indicating a very small amount of variation explained by the model. The model’s AUC (area under the ROC curve) is 0.568, suggesting that the model’s ability to distinguish between third-person and non-third-person games is only slightly better than random guessing."
   ]
  },
  {
   "cell_type": "markdown",
   "id": "fb20a1d6",
   "metadata": {},
   "source": [
    "#### (c)Build and evaluate a classifier:"
   ]
  },
  {
   "cell_type": "markdown",
   "id": "0f7e73eb",
   "metadata": {},
   "source": [
    "#### i)Build a classifier to the test data with a predictive probability threshold of your choosing. You might consider 0.5 as a first option. \n",
    "#### Threshold Chosen : p=0.5"
   ]
  },
  {
   "cell_type": "code",
   "execution_count": 47,
   "id": "9000cc1c",
   "metadata": {},
   "outputs": [
    {
     "data": {
      "text/plain": [
       "(np.int64(0), np.int64(87), np.int64(0), np.int64(267))"
      ]
     },
     "execution_count": 47,
     "metadata": {},
     "output_type": "execute_result"
    }
   ],
   "source": [
    "df_test_1['phat']=results_1.predict(df_test_1)\n",
    "df_test_1['yhat']= 1 * (df_test_1['phat'] >= 0.5)\n",
    "cfm = confusion_matrix(y_true=df_test_1[\"ThirdPerson\"],y_pred=df_test_1[\"yhat\"])\n",
    "tn, fp, fn, tp = cfm.ravel()\n",
    "(tn, fp, fn, tp)"
   ]
  },
  {
   "cell_type": "code",
   "execution_count": 48,
   "id": "0ec77627",
   "metadata": {},
   "outputs": [
    {
     "name": "stdout",
     "output_type": "stream",
     "text": [
      "accuracy_rate = 0.7542372881355932\n",
      "sensiticity = 1.0\n",
      "specificity = 0.0\n"
     ]
    }
   ],
   "source": [
    "accuracy_rate=(tn + tp)/(tn+tp+fn+fp)\n",
    "sensiticity=(tp) / (tp+fn)\n",
    "specificity= tn / (tn+fp)\n",
    "print(\"accuracy_rate =\", accuracy_rate)\n",
    "print('sensiticity =', sensiticity)\n",
    "print('specificity =', specificity)"
   ]
  },
  {
   "cell_type": "markdown",
   "id": "88eb14a4",
   "metadata": {},
   "source": [
    "#### The model has an accuracy of 75.4%, meaning it correctly classifies about 75.4% of the games overall. The sensitivity is 100%, showing that the model perfectly identifies all third-person games. However, the specificity is 0%, meaning it completely fails to identify non-third-person games. This happens because the model predicts almost every game as third-person, which leads to high sensitivity but very poor specificity.\n",
    "\n"
   ]
  },
  {
   "cell_type": "markdown",
   "id": "a91ba29b",
   "metadata": {},
   "source": [
    "#### iii) In this research question, the type of error I would want to minimize is the false negative — predicting that a game is not third-person when it actually is. In the context of our data, missing a third-person game could be problematic if the goal is to correctly identify and promote third-person games to users or for marketing purposes. It would be better to mistakenly classify a few non-third-person games as third-person (false positives) than to miss true third-person games that users might be most interested in."
   ]
  },
  {
   "cell_type": "markdown",
   "id": "1a6e3edd",
   "metadata": {},
   "source": [
    "### iv) Summary:\n",
    "In the training data, YearReleased and Platform were significantly associated with the log-odds of a game being third-person. Specifically, games released more recently and those on Platform = 1 had higher odds of being third-person, while Usedprice showed no significant relationship. The model’s pseudo R² was 0.01174, suggesting it explains very little variation. When applied to new data using a classification of 0.5, the classifier achieved an accuracy of 75.4%, but this was driven by predicting nearly all games as third-person. As a result, the model had perfect sensitivity (1.0) but zero specificity (0.0). The AUC of 0.599 confirms the model only slightly better than random guessing. Overall, while the model identifies third-person games well, it performs poorly at distinguishing non-third-person titles, limiting its usefulness as a balanced classifier."
   ]
  },
  {
   "cell_type": "markdown",
   "id": "b2cccb7a",
   "metadata": {},
   "source": [
    "## 4. Conclusion"
   ]
  },
  {
   "cell_type": "markdown",
   "id": "598c09d2",
   "metadata": {},
   "source": [
    "### a.Summarization"
   ]
  },
  {
   "cell_type": "markdown",
   "id": "5ccd6e77",
   "metadata": {},
   "source": [
    "#### In this project, we used linear regression to examine the relationship between video game review scores and US sales, controlling for YearReleased, Usedprice, and MaxPlayers. We found that while Review Score had a positive association with US Sales, the overall model had a low R-squared value (0.145), indicating limited explanatory power. Additionally, we performed a logistic regression analysis to predict whether a game was classified as third-person based on variables like Usedprice, YearReleased, and Platform. The logistic regression model showed that Platform type had a statistically significant effect, but the overall model performance was weak, with an AUC of 0.568 and a pseudo R-squared of 0.0117."
   ]
  },
  {
   "cell_type": "markdown",
   "id": "f0e809e3",
   "metadata": {},
   "source": [
    "### b.Limitations\n"
   ]
  },
  {
   "cell_type": "markdown",
   "id": "6ca6a0cf",
   "metadata": {},
   "source": [
    "#### One major limitation we faced was the low predictive power of both our linear and logistic regression models. The low R-squared values and poor model fit suggest that important predictors may be missing from our dataset. Additionally, the imbalance in third-person and non-third-person games caused our logistic model to have high sensitivity but very poor specificity. Contextual factors such as game genre, marketing budget, and brand recognition, which could greatly influence sales and gameplay style, were not included. Without these important variables, any conclusions drawn must be made cautiously. For game developers or marketers relying on these results, the limited explanatory power may restrict the model's practical usefulness."
   ]
  },
  {
   "cell_type": "markdown",
   "id": "0d9db7b1",
   "metadata": {},
   "source": [
    "### c. Future Work"
   ]
  },
  {
   "cell_type": "markdown",
   "id": "321c8399",
   "metadata": {},
   "source": [
    "#### Future research could incorporate additional variables such as marketing spend, genre type, game developer reputation, or player reviews over time to better predict game sales and third-person classification. Also, applying more advanced machine learning methods like decision trees or random forests might improve predictive performance. New research questions could include exploring how different genres impact sales across various platforms, or examining time trends in game popularity to better assist game developers in strategic planning."
   ]
  }
 ],
 "metadata": {
  "kernelspec": {
   "display_name": "Python 3",
   "language": "python",
   "name": "python3"
  },
  "language_info": {
   "codemirror_mode": {
    "name": "ipython",
    "version": 3
   },
   "file_extension": ".py",
   "mimetype": "text/x-python",
   "name": "python",
   "nbconvert_exporter": "python",
   "pygments_lexer": "ipython3",
   "version": "3.12.10"
  }
 },
 "nbformat": 4,
 "nbformat_minor": 5
}
