{
 "cells": [
  {
   "cell_type": "markdown",
   "id": "2a7be76e",
   "metadata": {},
   "source": [
    "# Project 02 - Research on Video games(2004 to 2010)"
   ]
  },
  {
   "cell_type": "markdown",
   "id": "d5829c8b",
   "metadata": {},
   "source": [
    "## 1. Introduction"
   ]
  },
  {
   "cell_type": "markdown",
   "id": "1e1c488e",
   "metadata": {},
   "source": [
    "### Dataset introduction:"
   ]
  },
  {
   "cell_type": "markdown",
   "id": "67859104",
   "metadata": {},
   "source": [
    "I use the \"Video Games\" dataset collected and collated by Dr. Joe Cox. The data set includes more than 1,000 video games released between 2004 and 2010. The dataset, which collects a variety of factors that influence game sales, was originally designed to study what makes a blockbuster video game."
   ]
  },
  {
   "cell_type": "markdown",
   "id": "b1a41c87",
   "metadata": {},
   "source": [
    "### Populations and Samples:"
   ]
  },
  {
   "cell_type": "markdown",
   "id": "7f0fde0c",
   "metadata": {},
   "source": [
    "The data set includes more than 1,000 video games released between 2004 and 2010, but does not include all video games released worldwide. So we took this dataset as a sample, and the population of interest was all video games released between 2004 and 2010"
   ]
  },
  {
   "cell_type": "markdown",
   "id": "a71dd963",
   "metadata": {},
   "source": [
    "### Research Questions:"
   ]
  },
  {
   "cell_type": "markdown",
   "id": "2ef33501",
   "metadata": {},
   "source": [
    "1. For all video games released between 2004–2010 (population), what percentage of video games is Action games ?\n",
    "2. For all video games released between 2004–2010 (population), the median review score should be greater than 80?"
   ]
  },
  {
   "cell_type": "markdown",
   "id": "5b9cab41",
   "metadata": {},
   "source": [
    "### Contextual Importance:"
   ]
  },
  {
   "cell_type": "markdown",
   "id": "9c44dd7f",
   "metadata": {},
   "source": [
    "All members of our team are very interested in video games, and through this research, we can find out what is relevant to game sales and provide strategic advice to all parties in the game development industry. Game developers can develop strategies based on these conclusions to make their games more competitive and sell more."
   ]
  },
  {
   "cell_type": "code",
   "execution_count": 18,
   "id": "4fc8ddb5",
   "metadata": {},
   "outputs": [],
   "source": [
    "#Imports here\n",
    "import pandas as pd\n",
    "import numpy as np\n",
    "import matplotlib.pyplot as plt\n",
    "import seaborn as sns; sns.set()\n",
    "import statsmodels.formula.api as smf"
   ]
  },
  {
   "cell_type": "code",
   "execution_count": 19,
   "id": "10d2f3d3",
   "metadata": {},
   "outputs": [
    {
     "data": {
      "text/html": [
       "<div>\n",
       "<style scoped>\n",
       "    .dataframe tbody tr th:only-of-type {\n",
       "        vertical-align: middle;\n",
       "    }\n",
       "\n",
       "    .dataframe tbody tr th {\n",
       "        vertical-align: top;\n",
       "    }\n",
       "\n",
       "    .dataframe thead th {\n",
       "        text-align: right;\n",
       "    }\n",
       "</style>\n",
       "<table border=\"1\" class=\"dataframe\">\n",
       "  <thead>\n",
       "    <tr style=\"text-align: right;\">\n",
       "      <th></th>\n",
       "      <th>Console</th>\n",
       "      <th>Title</th>\n",
       "      <th>US Sales (millions)</th>\n",
       "      <th>Block4</th>\n",
       "      <th>Block2</th>\n",
       "      <th>Block1</th>\n",
       "      <th>Block0.5</th>\n",
       "      <th>YearReleased</th>\n",
       "      <th>2004</th>\n",
       "      <th>2005</th>\n",
       "      <th>...</th>\n",
       "      <th>Tricks</th>\n",
       "      <th>Volleyball</th>\n",
       "      <th>Wakeboarding</th>\n",
       "      <th>Wrestling</th>\n",
       "      <th>FirstPerson</th>\n",
       "      <th>Platform</th>\n",
       "      <th>Isometric</th>\n",
       "      <th>SideScrolling</th>\n",
       "      <th>TopDown</th>\n",
       "      <th>ThirdPerson</th>\n",
       "    </tr>\n",
       "  </thead>\n",
       "  <tbody>\n",
       "    <tr>\n",
       "      <th>0</th>\n",
       "      <td>Nintendo DS</td>\n",
       "      <td>Super Mario 64 DS</td>\n",
       "      <td>4.69</td>\n",
       "      <td>1</td>\n",
       "      <td>1</td>\n",
       "      <td>1</td>\n",
       "      <td>1</td>\n",
       "      <td>2004</td>\n",
       "      <td>1</td>\n",
       "      <td>0</td>\n",
       "      <td>...</td>\n",
       "      <td>0</td>\n",
       "      <td>0</td>\n",
       "      <td>0</td>\n",
       "      <td>0</td>\n",
       "      <td>0</td>\n",
       "      <td>1</td>\n",
       "      <td>0</td>\n",
       "      <td>0</td>\n",
       "      <td>0</td>\n",
       "      <td>1</td>\n",
       "    </tr>\n",
       "    <tr>\n",
       "      <th>1</th>\n",
       "      <td>Sony PSP</td>\n",
       "      <td>Lumines: Puzzle Fusion</td>\n",
       "      <td>0.56</td>\n",
       "      <td>0</td>\n",
       "      <td>0</td>\n",
       "      <td>0</td>\n",
       "      <td>1</td>\n",
       "      <td>2004</td>\n",
       "      <td>1</td>\n",
       "      <td>0</td>\n",
       "      <td>...</td>\n",
       "      <td>0</td>\n",
       "      <td>0</td>\n",
       "      <td>0</td>\n",
       "      <td>0</td>\n",
       "      <td>0</td>\n",
       "      <td>0</td>\n",
       "      <td>0</td>\n",
       "      <td>0</td>\n",
       "      <td>0</td>\n",
       "      <td>0</td>\n",
       "    </tr>\n",
       "    <tr>\n",
       "      <th>2</th>\n",
       "      <td>Nintendo DS</td>\n",
       "      <td>WarioWare Touched!</td>\n",
       "      <td>0.54</td>\n",
       "      <td>0</td>\n",
       "      <td>0</td>\n",
       "      <td>0</td>\n",
       "      <td>1</td>\n",
       "      <td>2004</td>\n",
       "      <td>1</td>\n",
       "      <td>0</td>\n",
       "      <td>...</td>\n",
       "      <td>0</td>\n",
       "      <td>0</td>\n",
       "      <td>0</td>\n",
       "      <td>0</td>\n",
       "      <td>0</td>\n",
       "      <td>1</td>\n",
       "      <td>1</td>\n",
       "      <td>1</td>\n",
       "      <td>1</td>\n",
       "      <td>1</td>\n",
       "    </tr>\n",
       "    <tr>\n",
       "      <th>3</th>\n",
       "      <td>Sony PSP</td>\n",
       "      <td>Hot Shots Golf: Open Tee</td>\n",
       "      <td>0.49</td>\n",
       "      <td>0</td>\n",
       "      <td>0</td>\n",
       "      <td>0</td>\n",
       "      <td>0</td>\n",
       "      <td>2004</td>\n",
       "      <td>1</td>\n",
       "      <td>0</td>\n",
       "      <td>...</td>\n",
       "      <td>0</td>\n",
       "      <td>0</td>\n",
       "      <td>0</td>\n",
       "      <td>0</td>\n",
       "      <td>0</td>\n",
       "      <td>0</td>\n",
       "      <td>0</td>\n",
       "      <td>0</td>\n",
       "      <td>0</td>\n",
       "      <td>1</td>\n",
       "    </tr>\n",
       "    <tr>\n",
       "      <th>4</th>\n",
       "      <td>Nintendo DS</td>\n",
       "      <td>Spider-Man 2</td>\n",
       "      <td>0.45</td>\n",
       "      <td>0</td>\n",
       "      <td>0</td>\n",
       "      <td>0</td>\n",
       "      <td>0</td>\n",
       "      <td>2004</td>\n",
       "      <td>1</td>\n",
       "      <td>0</td>\n",
       "      <td>...</td>\n",
       "      <td>0</td>\n",
       "      <td>0</td>\n",
       "      <td>0</td>\n",
       "      <td>0</td>\n",
       "      <td>0</td>\n",
       "      <td>1</td>\n",
       "      <td>0</td>\n",
       "      <td>1</td>\n",
       "      <td>0</td>\n",
       "      <td>1</td>\n",
       "    </tr>\n",
       "    <tr>\n",
       "      <th>...</th>\n",
       "      <td>...</td>\n",
       "      <td>...</td>\n",
       "      <td>...</td>\n",
       "      <td>...</td>\n",
       "      <td>...</td>\n",
       "      <td>...</td>\n",
       "      <td>...</td>\n",
       "      <td>...</td>\n",
       "      <td>...</td>\n",
       "      <td>...</td>\n",
       "      <td>...</td>\n",
       "      <td>...</td>\n",
       "      <td>...</td>\n",
       "      <td>...</td>\n",
       "      <td>...</td>\n",
       "      <td>...</td>\n",
       "      <td>...</td>\n",
       "      <td>...</td>\n",
       "      <td>...</td>\n",
       "      <td>...</td>\n",
       "      <td>...</td>\n",
       "    </tr>\n",
       "    <tr>\n",
       "      <th>1765</th>\n",
       "      <td>PlayStation 3</td>\n",
       "      <td>MotoGP 09/10</td>\n",
       "      <td>0.04</td>\n",
       "      <td>0</td>\n",
       "      <td>0</td>\n",
       "      <td>0</td>\n",
       "      <td>0</td>\n",
       "      <td>2010</td>\n",
       "      <td>0</td>\n",
       "      <td>0</td>\n",
       "      <td>...</td>\n",
       "      <td>0</td>\n",
       "      <td>0</td>\n",
       "      <td>0</td>\n",
       "      <td>0</td>\n",
       "      <td>1</td>\n",
       "      <td>0</td>\n",
       "      <td>0</td>\n",
       "      <td>0</td>\n",
       "      <td>0</td>\n",
       "      <td>1</td>\n",
       "    </tr>\n",
       "    <tr>\n",
       "      <th>1766</th>\n",
       "      <td>PlayStation 3</td>\n",
       "      <td>Prison Break: The Conspiracy</td>\n",
       "      <td>0.04</td>\n",
       "      <td>0</td>\n",
       "      <td>0</td>\n",
       "      <td>0</td>\n",
       "      <td>0</td>\n",
       "      <td>2010</td>\n",
       "      <td>0</td>\n",
       "      <td>0</td>\n",
       "      <td>...</td>\n",
       "      <td>0</td>\n",
       "      <td>0</td>\n",
       "      <td>0</td>\n",
       "      <td>0</td>\n",
       "      <td>0</td>\n",
       "      <td>0</td>\n",
       "      <td>0</td>\n",
       "      <td>0</td>\n",
       "      <td>0</td>\n",
       "      <td>1</td>\n",
       "    </tr>\n",
       "    <tr>\n",
       "      <th>1767</th>\n",
       "      <td>Nintendo Wii</td>\n",
       "      <td>Sakura Wars: So Long, My Love</td>\n",
       "      <td>0.04</td>\n",
       "      <td>0</td>\n",
       "      <td>0</td>\n",
       "      <td>0</td>\n",
       "      <td>0</td>\n",
       "      <td>2010</td>\n",
       "      <td>0</td>\n",
       "      <td>0</td>\n",
       "      <td>...</td>\n",
       "      <td>0</td>\n",
       "      <td>0</td>\n",
       "      <td>0</td>\n",
       "      <td>0</td>\n",
       "      <td>0</td>\n",
       "      <td>0</td>\n",
       "      <td>0</td>\n",
       "      <td>0</td>\n",
       "      <td>0</td>\n",
       "      <td>1</td>\n",
       "    </tr>\n",
       "    <tr>\n",
       "      <th>1768</th>\n",
       "      <td>X360</td>\n",
       "      <td>Record of Agarest War (The Really Naughty Limi...</td>\n",
       "      <td>0.04</td>\n",
       "      <td>0</td>\n",
       "      <td>0</td>\n",
       "      <td>0</td>\n",
       "      <td>0</td>\n",
       "      <td>2010</td>\n",
       "      <td>0</td>\n",
       "      <td>0</td>\n",
       "      <td>...</td>\n",
       "      <td>0</td>\n",
       "      <td>0</td>\n",
       "      <td>0</td>\n",
       "      <td>0</td>\n",
       "      <td>0</td>\n",
       "      <td>0</td>\n",
       "      <td>1</td>\n",
       "      <td>0</td>\n",
       "      <td>0</td>\n",
       "      <td>0</td>\n",
       "    </tr>\n",
       "    <tr>\n",
       "      <th>1769</th>\n",
       "      <td>Sony PSP</td>\n",
       "      <td>Metal Slug XX</td>\n",
       "      <td>0.02</td>\n",
       "      <td>0</td>\n",
       "      <td>0</td>\n",
       "      <td>0</td>\n",
       "      <td>0</td>\n",
       "      <td>2010</td>\n",
       "      <td>0</td>\n",
       "      <td>0</td>\n",
       "      <td>...</td>\n",
       "      <td>0</td>\n",
       "      <td>0</td>\n",
       "      <td>0</td>\n",
       "      <td>0</td>\n",
       "      <td>0</td>\n",
       "      <td>0</td>\n",
       "      <td>0</td>\n",
       "      <td>1</td>\n",
       "      <td>0</td>\n",
       "      <td>1</td>\n",
       "    </tr>\n",
       "  </tbody>\n",
       "</table>\n",
       "<p>1770 rows × 166 columns</p>\n",
       "</div>"
      ],
      "text/plain": [
       "            Console                                              Title  \\\n",
       "0       Nintendo DS                                  Super Mario 64 DS   \n",
       "1          Sony PSP                             Lumines: Puzzle Fusion   \n",
       "2       Nintendo DS                                 WarioWare Touched!   \n",
       "3          Sony PSP                           Hot Shots Golf: Open Tee   \n",
       "4       Nintendo DS                                       Spider-Man 2   \n",
       "...             ...                                                ...   \n",
       "1765  PlayStation 3                                       MotoGP 09/10   \n",
       "1766  PlayStation 3                       Prison Break: The Conspiracy   \n",
       "1767   Nintendo Wii                      Sakura Wars: So Long, My Love   \n",
       "1768           X360  Record of Agarest War (The Really Naughty Limi...   \n",
       "1769       Sony PSP                                      Metal Slug XX   \n",
       "\n",
       "      US Sales (millions)  Block4  Block2  Block1  Block0.5  YearReleased  \\\n",
       "0                    4.69       1       1       1         1          2004   \n",
       "1                    0.56       0       0       0         1          2004   \n",
       "2                    0.54       0       0       0         1          2004   \n",
       "3                    0.49       0       0       0         0          2004   \n",
       "4                    0.45       0       0       0         0          2004   \n",
       "...                   ...     ...     ...     ...       ...           ...   \n",
       "1765                 0.04       0       0       0         0          2010   \n",
       "1766                 0.04       0       0       0         0          2010   \n",
       "1767                 0.04       0       0       0         0          2010   \n",
       "1768                 0.04       0       0       0         0          2010   \n",
       "1769                 0.02       0       0       0         0          2010   \n",
       "\n",
       "      2004  2005  ...  Tricks  Volleyball  Wakeboarding  Wrestling  \\\n",
       "0        1     0  ...       0           0             0          0   \n",
       "1        1     0  ...       0           0             0          0   \n",
       "2        1     0  ...       0           0             0          0   \n",
       "3        1     0  ...       0           0             0          0   \n",
       "4        1     0  ...       0           0             0          0   \n",
       "...    ...   ...  ...     ...         ...           ...        ...   \n",
       "1765     0     0  ...       0           0             0          0   \n",
       "1766     0     0  ...       0           0             0          0   \n",
       "1767     0     0  ...       0           0             0          0   \n",
       "1768     0     0  ...       0           0             0          0   \n",
       "1769     0     0  ...       0           0             0          0   \n",
       "\n",
       "      FirstPerson  Platform Isometric SideScrolling  TopDown  ThirdPerson  \n",
       "0               0         1         0             0        0            1  \n",
       "1               0         0         0             0        0            0  \n",
       "2               0         1         1             1        1            1  \n",
       "3               0         0         0             0        0            1  \n",
       "4               0         1         0             1        0            1  \n",
       "...           ...       ...       ...           ...      ...          ...  \n",
       "1765            1         0         0             0        0            1  \n",
       "1766            0         0         0             0        0            1  \n",
       "1767            0         0         0             0        0            1  \n",
       "1768            0         0         1             0        0            0  \n",
       "1769            0         0         0             1        0            1  \n",
       "\n",
       "[1770 rows x 166 columns]"
      ]
     },
     "execution_count": 19,
     "metadata": {},
     "output_type": "execute_result"
    }
   ],
   "source": [
    "df = pd.read_csv('video_games.csv', encoding='unicode-escape')\n",
    "df"
   ]
  },
  {
   "cell_type": "markdown",
   "id": "4f658ca6",
   "metadata": {},
   "source": [
    "## 2. Confidence Interval Analytical Tasks"
   ]
  },
  {
   "cell_type": "markdown",
   "id": "2206f04a",
   "metadata": {},
   "source": [
    "### Research Question"
   ]
  },
  {
   "cell_type": "markdown",
   "id": "2e220e60",
   "metadata": {},
   "source": [
    "Descriptive questions (for sample): What percentage of the current sample \"video games\" are  Action games?"
   ]
  },
  {
   "cell_type": "markdown",
   "id": "86c65205",
   "metadata": {},
   "source": [
    "### Dataset cleaning:"
   ]
  },
  {
   "cell_type": "code",
   "execution_count": 20,
   "id": "133739d5",
   "metadata": {},
   "outputs": [
    {
     "data": {
      "text/plain": [
       "np.int64(0)"
      ]
     },
     "execution_count": 20,
     "metadata": {},
     "output_type": "execute_result"
    }
   ],
   "source": [
    "df[\"Action\"].isna().sum()"
   ]
  },
  {
   "cell_type": "markdown",
   "id": "44ca4adc",
   "metadata": {},
   "source": [
    "No additional cleaning steps are required since there are no missing data."
   ]
  },
  {
   "cell_type": "markdown",
   "id": "f7d2f94f",
   "metadata": {},
   "source": [
    "### Descriptive analytics:"
   ]
  },
  {
   "cell_type": "markdown",
   "id": "5b0e2caa",
   "metadata": {},
   "source": [
    "##### Report sample size:"
   ]
  },
  {
   "cell_type": "code",
   "execution_count": 21,
   "id": "a57f86fb",
   "metadata": {},
   "outputs": [
    {
     "data": {
      "text/plain": [
       "1770"
      ]
     },
     "execution_count": 21,
     "metadata": {},
     "output_type": "execute_result"
    }
   ],
   "source": [
    "n = len(df)\n",
    "n"
   ]
  },
  {
   "cell_type": "markdown",
   "id": "2a58552f",
   "metadata": {},
   "source": [
    "Sample size is 1770"
   ]
  },
  {
   "cell_type": "markdown",
   "id": "3d43f3ec",
   "metadata": {},
   "source": [
    "##### Numerical summaries:"
   ]
  },
  {
   "cell_type": "code",
   "execution_count": 22,
   "id": "8a3c035d",
   "metadata": {},
   "outputs": [
    {
     "data": {
      "text/plain": [
       "0.607909604519774"
      ]
     },
     "execution_count": 22,
     "metadata": {},
     "output_type": "execute_result"
    }
   ],
   "source": [
    "p_hat = len(df[df[\"Action\"]==1]) / n\n",
    "p_hat"
   ]
  },
  {
   "cell_type": "markdown",
   "id": "6bada8da",
   "metadata": {},
   "source": [
    "##### Interpret:"
   ]
  },
  {
   "cell_type": "markdown",
   "id": "dda797d3",
   "metadata": {},
   "source": [
    "In our sample(\"video games), 60.79% of video games are \"Action\" games."
   ]
  },
  {
   "cell_type": "markdown",
   "id": "388b5648",
   "metadata": {},
   "source": [
    "### Create a confidence interval:"
   ]
  },
  {
   "cell_type": "markdown",
   "id": "f5627bcb",
   "metadata": {},
   "source": [
    "We choose 95% confidence level"
   ]
  },
  {
   "cell_type": "code",
   "execution_count": 23,
   "id": "6af7d50b",
   "metadata": {},
   "outputs": [
    {
     "data": {
      "text/html": [
       "<div>\n",
       "<style scoped>\n",
       "    .dataframe tbody tr th:only-of-type {\n",
       "        vertical-align: middle;\n",
       "    }\n",
       "\n",
       "    .dataframe tbody tr th {\n",
       "        vertical-align: top;\n",
       "    }\n",
       "\n",
       "    .dataframe thead th {\n",
       "        text-align: right;\n",
       "    }\n",
       "</style>\n",
       "<table border=\"1\" class=\"dataframe\">\n",
       "  <thead>\n",
       "    <tr style=\"text-align: right;\">\n",
       "      <th></th>\n",
       "      <th>sample_proportion</th>\n",
       "    </tr>\n",
       "  </thead>\n",
       "  <tbody>\n",
       "    <tr>\n",
       "      <th>0</th>\n",
       "      <td>0.590395</td>\n",
       "    </tr>\n",
       "    <tr>\n",
       "      <th>1</th>\n",
       "      <td>0.613559</td>\n",
       "    </tr>\n",
       "    <tr>\n",
       "      <th>2</th>\n",
       "      <td>0.602260</td>\n",
       "    </tr>\n",
       "    <tr>\n",
       "      <th>3</th>\n",
       "      <td>0.620904</td>\n",
       "    </tr>\n",
       "    <tr>\n",
       "      <th>4</th>\n",
       "      <td>0.615254</td>\n",
       "    </tr>\n",
       "    <tr>\n",
       "      <th>...</th>\n",
       "      <td>...</td>\n",
       "    </tr>\n",
       "    <tr>\n",
       "      <th>4995</th>\n",
       "      <td>0.607345</td>\n",
       "    </tr>\n",
       "    <tr>\n",
       "      <th>4996</th>\n",
       "      <td>0.615254</td>\n",
       "    </tr>\n",
       "    <tr>\n",
       "      <th>4997</th>\n",
       "      <td>0.624294</td>\n",
       "    </tr>\n",
       "    <tr>\n",
       "      <th>4998</th>\n",
       "      <td>0.607345</td>\n",
       "    </tr>\n",
       "    <tr>\n",
       "      <th>4999</th>\n",
       "      <td>0.608475</td>\n",
       "    </tr>\n",
       "  </tbody>\n",
       "</table>\n",
       "<p>5000 rows × 1 columns</p>\n",
       "</div>"
      ],
      "text/plain": [
       "      sample_proportion\n",
       "0              0.590395\n",
       "1              0.613559\n",
       "2              0.602260\n",
       "3              0.620904\n",
       "4              0.615254\n",
       "...                 ...\n",
       "4995           0.607345\n",
       "4996           0.615254\n",
       "4997           0.624294\n",
       "4998           0.607345\n",
       "4999           0.608475\n",
       "\n",
       "[5000 rows x 1 columns]"
      ]
     },
     "execution_count": 23,
     "metadata": {},
     "output_type": "execute_result"
    }
   ],
   "source": [
    "list=[]\n",
    "for i in range(5000):\n",
    "    sample = df.sample(len(df),replace=True)\n",
    "    list.append({\"sample_proportion\":len(sample[sample[\"Action\"]==1])/len(sample)})\n",
    "df_samdist = pd.DataFrame(list)\n",
    "df_samdist"
   ]
  },
  {
   "cell_type": "markdown",
   "id": "b0f3baff",
   "metadata": {},
   "source": [
    "##### Estimate confidence interval:"
   ]
  },
  {
   "cell_type": "code",
   "execution_count": 24,
   "id": "2647c7db",
   "metadata": {},
   "outputs": [
    {
     "name": "stdout",
     "output_type": "stream",
     "text": [
      "0.6310734463276836\n",
      "0.5853107344632769\n"
     ]
    }
   ],
   "source": [
    "upper = df_samdist[\"sample_proportion\"].quantile(0.975)\n",
    "lower = df_samdist[\"sample_proportion\"].quantile(0.025)\n",
    "print(upper)\n",
    "print(lower)"
   ]
  },
  {
   "cell_type": "markdown",
   "id": "fc7cd401",
   "metadata": {},
   "source": [
    "### Interpret confidence interval:"
   ]
  },
  {
   "cell_type": "markdown",
   "id": "2241d644",
   "metadata": {},
   "source": [
    "At a 95% confidence level, we believe that the proportion of all video games released between 2004 and 2010 (population) is \"Action\" games is between 0.631 and 0.585"
   ]
  },
  {
   "cell_type": "markdown",
   "id": "caa374e6",
   "metadata": {},
   "source": [
    "## 3. Hypothesis Testing Analytical Tasks"
   ]
  },
  {
   "cell_type": "markdown",
   "id": "608cab0b",
   "metadata": {},
   "source": [
    "### Research Question:"
   ]
  },
  {
   "cell_type": "markdown",
   "id": "3b42ef99",
   "metadata": {},
   "source": [
    "Descriptive questions (for sample): What is the distribution of game ratings in our sample (2004-2010)?"
   ]
  },
  {
   "cell_type": "markdown",
   "id": "22c3f3fc",
   "metadata": {},
   "source": [
    "Inference problem (for population): If we were to take a random sample of all games released between 2004 and 2010, would the median review score of there video games really be significantly greater than 80?"
   ]
  },
  {
   "cell_type": "markdown",
   "id": "e5bf2627",
   "metadata": {},
   "source": [
    "### Dataset Cleaning:"
   ]
  },
  {
   "cell_type": "code",
   "execution_count": 25,
   "id": "8c3a9726",
   "metadata": {},
   "outputs": [
    {
     "data": {
      "text/plain": [
       "np.int64(0)"
      ]
     },
     "execution_count": 25,
     "metadata": {},
     "output_type": "execute_result"
    }
   ],
   "source": [
    "df['Review Score'].isna().sum()"
   ]
  },
  {
   "cell_type": "markdown",
   "id": "b943e8f5",
   "metadata": {},
   "source": [
    "No additional cleaning steps are required since there are no missing data."
   ]
  },
  {
   "cell_type": "markdown",
   "id": "6323479d",
   "metadata": {},
   "source": [
    "### Descriptive Analytics"
   ]
  },
  {
   "cell_type": "markdown",
   "id": "56da8333",
   "metadata": {},
   "source": [
    "##### Numerical summaries:"
   ]
  },
  {
   "cell_type": "code",
   "execution_count": 26,
   "id": "235d7dd7",
   "metadata": {},
   "outputs": [
    {
     "data": {
      "text/plain": [
       "count    1770.000000\n",
       "mean       68.428814\n",
       "std        13.894937\n",
       "min        12.000000\n",
       "25%        60.000000\n",
       "50%        70.000000\n",
       "75%        79.000000\n",
       "max        98.000000\n",
       "Name: Review Score, dtype: float64"
      ]
     },
     "execution_count": 26,
     "metadata": {},
     "output_type": "execute_result"
    }
   ],
   "source": [
    "df['Review Score'].describe()"
   ]
  },
  {
   "cell_type": "markdown",
   "id": "610311bd",
   "metadata": {},
   "source": [
    "##### Visualization："
   ]
  },
  {
   "cell_type": "code",
   "execution_count": 32,
   "id": "c37f135f",
   "metadata": {},
   "outputs": [
    {
     "data": {
      "image/png": "[encoded data removed]",
      "text/plain": [
       "<Figure size 800x600 with 1 Axes>"
      ]
     },
     "metadata": {},
     "output_type": "display_data"
    }
   ],
   "source": [
    "plt.figure(figsize=(8,6))\n",
    "sns.histplot(df['Review Score'], bins=20, kde=True, color='royalblue')\n",
    "\n",
    "plt.title(\"Distribution of Review Scores\", fontsize=16, fontweight='bold')\n",
    "plt.xlabel(\"Review Score\", fontsize=14)\n",
    "plt.ylabel(\"Frequency\", fontsize=14)\n",
    "plt.show()\n"
   ]
  },
  {
   "cell_type": "markdown",
   "id": "ca28ef9b",
   "metadata": {},
   "source": [
    "##### Interpret the results："
   ]
  },
  {
   "cell_type": "markdown",
   "id": "2b176a39",
   "metadata": {},
   "source": [
    "From the descriptive statistics and histogram, we observe that the review scores have a mean of 68.43 and a median of 70, with a standard deviation of 13.89, the range is 12 to 98. The histogram suggests a left-skewed distribution, the IQR is about 19, and there has some outliers in the distribution."
   ]
  },
  {
   "cell_type": "markdown",
   "id": "392e3bbd",
   "metadata": {},
   "source": [
    "##### Appropriate measure of center:"
   ]
  },
  {
   "cell_type": "markdown",
   "id": "09711903",
   "metadata": {},
   "source": [
    "In this distribution, the scores are slightly skewed to the left overall, with some low score tails pulling down the mean.\n",
    "Therefore, the median here is more representative of the rating level of a \"typical\" game and is relatively unaffected by outliers."
   ]
  },
  {
   "cell_type": "markdown",
   "id": "0b4dfd21",
   "metadata": {},
   "source": [
    "### Perform a Hypothesis Test: "
   ]
  },
  {
   "cell_type": "markdown",
   "id": "cb68fa6c",
   "metadata": {},
   "source": [
    "##### State hypotheses:"
   ]
  },
  {
   "cell_type": "markdown",
   "id": "2c03a704",
   "metadata": {},
   "source": [
    "H0: M = 80; Ha: M > 80\n",
    "\n",
    "M is the true population median review score of all video games between 2004 and 2010"
   ]
  },
  {
   "cell_type": "markdown",
   "id": "0bda8bea",
   "metadata": {},
   "source": [
    "##### Select a significance level:"
   ]
  },
  {
   "cell_type": "markdown",
   "id": "a63e8557",
   "metadata": {},
   "source": [
    "We chose α=0.05 as the significance level"
   ]
  },
  {
   "cell_type": "markdown",
   "id": "3542e791",
   "metadata": {},
   "source": [
    "##### Check the conditions:"
   ]
  },
  {
   "cell_type": "markdown",
   "id": "ef5e4b83",
   "metadata": {},
   "source": [
    "Randomlized: The sample we used was a random sample of all games from 2004 to 2010 and is fairly representative.\n"
   ]
  },
  {
   "cell_type": "markdown",
   "id": "eacfff59",
   "metadata": {},
   "source": [
    "Independence: Review score of video games are independent of each other"
   ]
  },
  {
   "cell_type": "markdown",
   "id": "72247a58",
   "metadata": {},
   "source": [
    "##### Simulate a sampling distribution:"
   ]
  },
  {
   "cell_type": "code",
   "execution_count": 28,
   "id": "a60ba95a",
   "metadata": {},
   "outputs": [],
   "source": [
    "obs_median = df[\"Review Score\"].median()\n",
    "median = 80"
   ]
  },
  {
   "cell_type": "code",
   "execution_count": 29,
   "id": "9deaaa8e",
   "metadata": {},
   "outputs": [],
   "source": [
    "df[\"Review\"] = df[\"Review Score\"] - obs_median + median"
   ]
  },
  {
   "cell_type": "code",
   "execution_count": 30,
   "id": "73b13ed6",
   "metadata": {},
   "outputs": [
    {
     "data": {
      "text/html": [
       "<div>\n",
       "<style scoped>\n",
       "    .dataframe tbody tr th:only-of-type {\n",
       "        vertical-align: middle;\n",
       "    }\n",
       "\n",
       "    .dataframe tbody tr th {\n",
       "        vertical-align: top;\n",
       "    }\n",
       "\n",
       "    .dataframe thead th {\n",
       "        text-align: right;\n",
       "    }\n",
       "</style>\n",
       "<table border=\"1\" class=\"dataframe\">\n",
       "  <thead>\n",
       "    <tr style=\"text-align: right;\">\n",
       "      <th></th>\n",
       "      <th>median</th>\n",
       "    </tr>\n",
       "  </thead>\n",
       "  <tbody>\n",
       "    <tr>\n",
       "      <th>0</th>\n",
       "      <td>79.0</td>\n",
       "    </tr>\n",
       "    <tr>\n",
       "      <th>1</th>\n",
       "      <td>80.0</td>\n",
       "    </tr>\n",
       "    <tr>\n",
       "      <th>2</th>\n",
       "      <td>80.0</td>\n",
       "    </tr>\n",
       "    <tr>\n",
       "      <th>3</th>\n",
       "      <td>80.5</td>\n",
       "    </tr>\n",
       "    <tr>\n",
       "      <th>4</th>\n",
       "      <td>80.0</td>\n",
       "    </tr>\n",
       "    <tr>\n",
       "      <th>...</th>\n",
       "      <td>...</td>\n",
       "    </tr>\n",
       "    <tr>\n",
       "      <th>4995</th>\n",
       "      <td>81.0</td>\n",
       "    </tr>\n",
       "    <tr>\n",
       "      <th>4996</th>\n",
       "      <td>81.0</td>\n",
       "    </tr>\n",
       "    <tr>\n",
       "      <th>4997</th>\n",
       "      <td>80.0</td>\n",
       "    </tr>\n",
       "    <tr>\n",
       "      <th>4998</th>\n",
       "      <td>81.0</td>\n",
       "    </tr>\n",
       "    <tr>\n",
       "      <th>4999</th>\n",
       "      <td>80.0</td>\n",
       "    </tr>\n",
       "  </tbody>\n",
       "</table>\n",
       "<p>5000 rows × 1 columns</p>\n",
       "</div>"
      ],
      "text/plain": [
       "      median\n",
       "0       79.0\n",
       "1       80.0\n",
       "2       80.0\n",
       "3       80.5\n",
       "4       80.0\n",
       "...      ...\n",
       "4995    81.0\n",
       "4996    81.0\n",
       "4997    80.0\n",
       "4998    81.0\n",
       "4999    80.0\n",
       "\n",
       "[5000 rows x 1 columns]"
      ]
     },
     "execution_count": 30,
     "metadata": {},
     "output_type": "execute_result"
    }
   ],
   "source": [
    "sample_list = []\n",
    "for i in range(5000):\n",
    "    my_sample = df.sample(len(df), replace=True)\n",
    "    sample_list.append({\"median\":my_sample[\"Review\"].median()})\n",
    "sample_dist = pd.DataFrame(sample_list)\n",
    "sample_dist"
   ]
  },
  {
   "cell_type": "markdown",
   "id": "bb739cd3",
   "metadata": {},
   "source": [
    "##### Calculate a p-value:"
   ]
  },
  {
   "cell_type": "code",
   "execution_count": 31,
   "id": "7ef9126a",
   "metadata": {},
   "outputs": [
    {
     "data": {
      "text/plain": [
       "0.1838"
      ]
     },
     "execution_count": 31,
     "metadata": {},
     "output_type": "execute_result"
    }
   ],
   "source": [
    "len(sample_dist[sample_dist[\"median\"]>80])/len(sample_dist)"
   ]
  },
  {
   "cell_type": "markdown",
   "id": "0ed52a9f",
   "metadata": {},
   "source": [
    "##### Making decision and state a conclusion:"
   ]
  },
  {
   "cell_type": "markdown",
   "id": "22938ed4",
   "metadata": {},
   "source": [
    "Because p-value(0.178) > significance level(0.05), we do not reject null hypothesis. So we cannot conclude there is sufficient evidence to support that the true median review score of all video games between 2004 and 2010 is greater than 80."
   ]
  },
  {
   "cell_type": "markdown",
   "id": "28a08b09",
   "metadata": {},
   "source": [
    "### Interpret significance level & p-value:"
   ]
  },
  {
   "cell_type": "markdown",
   "id": "c002640b",
   "metadata": {},
   "source": [
    "##### Significance level:"
   ]
  },
  {
   "cell_type": "markdown",
   "id": "a8105ac3",
   "metadata": {},
   "source": [
    "When null hypothesis is true, we have 5% probability to reject the null hypothesis. we accept up to a 5% risk of incorrectly rejecting H0 when it is actually true."
   ]
  },
  {
   "cell_type": "markdown",
   "id": "c7c6817e",
   "metadata": {},
   "source": [
    "##### P-value:\n",
    "\n",
    "Assuming the null hypothesis is true, We have 17.68% probability of observing a sample median of review score as 80 or more."
   ]
  },
  {
   "cell_type": "markdown",
   "id": "529bcf8d",
   "metadata": {},
   "source": [
    "## 4. Conclusion"
   ]
  },
  {
   "cell_type": "markdown",
   "id": "fa2f870b",
   "metadata": {},
   "source": [
    "### Summarization:"
   ]
  },
  {
   "cell_type": "markdown",
   "id": "efa3803c",
   "metadata": {},
   "source": [
    "In this project, we use video_games dataset to research two question. In our confidence interval analysis, we examined the proportion of “Action” games in the dataset (2004–2010). At a 95% confidence interval, we conclude that the proportion of all video games released between 2004 and 2010 (population) is \"Action\" games is between 0.631 and 0.585. For the hypothesis test, we focused on whether the true median review score exceeded 80.we obtained a p‐value of about 0.1768, which is higher than our chosen 5% significance level. Consequently, we could not reject the null hypothesis; in other words, we do not have sufficient statistical evidence to conclude that the median rating is greater than 80."
   ]
  },
  {
   "cell_type": "markdown",
   "id": "b8fdd0da",
   "metadata": {},
   "source": [
    "### Limitations:"
   ]
  },
  {
   "cell_type": "markdown",
   "id": "cb28c90f",
   "metadata": {},
   "source": [
    "The dataset may not include every single game from 2004–2010, so our results might not perfectly generalize to the entire population of all games released during that period. Review scores can be subjective, influenced by platform, Posting area, or reviewer bias. Such as malicious ratings from competitors, which can affect our results"
   ]
  },
  {
   "cell_type": "markdown",
   "id": "50bcde72",
   "metadata": {},
   "source": [
    "### Future work:"
   ]
  },
  {
   "cell_type": "markdown",
   "id": "6359675e",
   "metadata": {},
   "source": [
    "In future work, we can use regression to analyze the relationship between various variables in the data set and video game sales. Then identify these variables to better help game developers adjust their development and operations decisions."
   ]
  },
  {
   "cell_type": "code",
   "execution_count": null,
   "id": "9f57b913",
   "metadata": {},
   "outputs": [],
   "source": []
  }
 ],
 "metadata": {
  "kernelspec": {
   "display_name": "Python 3",
   "language": "python",
   "name": "python3"
  },
  "language_info": {
   "codemirror_mode": {
    "name": "ipython",
    "version": 3
   },
   "file_extension": ".py",
   "mimetype": "text/x-python",
   "name": "python",
   "nbconvert_exporter": "python",
   "pygments_lexer": "ipython3",
   "version": "3.12.10"
  }
 },
 "nbformat": 4,
 "nbformat_minor": 5
}
